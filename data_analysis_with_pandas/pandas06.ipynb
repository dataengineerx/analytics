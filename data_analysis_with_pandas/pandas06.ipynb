{
 "cells": [
  {
   "cell_type": "markdown",
   "metadata": {},
   "source": [
    "Both join and merge can be used to combines two dataframes but the join method combines \n",
    "two dataframes on the basis of their indexes whereas the merge method is more versatile \n",
    "and allows us to specify columns beside the index to join on for both dataframes\n",
    "[] Index is honored in join method but not in merge method"
   ]
  },
  {
   "cell_type": "markdown",
   "metadata": {},
   "source": [
    "Merge with Indexes\n",
    "\n"
   ]
  },
  {
   "cell_type": "code",
   "execution_count": 2,
   "metadata": {},
   "outputs": [
    {
     "name": "stdout",
     "output_type": "stream",
     "text": [
      "   HPI  Int_rate  US_GDP_Thousands  Low_tier_HPI\n",
      "0   80         1                50            50\n",
      "1   85         2                55            55\n",
      "2   88         3                65            65\n",
      "3   85         4                55            55\n"
     ]
    }
   ],
   "source": [
    "import pandas as pd \n",
    "df1 = pd.DataFrame({'HPI': [80,85,88,85], 'Int_rate': [1,2,3,4] ,'US_GDP_Thousands': [50,55,65,55]}, index = [2001,2002,2003,2004])\n",
    "df3 = pd.DataFrame({'HPI': [80,85,88,85], 'Int_rate': [1,2,3,4], 'Low_tier_HPI': [50,55,65,55]}, index = [2001,2002,2003,2004])\n",
    "print(pd.merge(df1,df3, on = ['HPI','Int_rate']))\n"
   ]
  },
  {
   "cell_type": "markdown",
   "metadata": {},
   "source": [
    "Merge withoout Indexes\n",
    "\n"
   ]
  },
  {
   "cell_type": "code",
   "execution_count": 11,
   "metadata": {},
   "outputs": [
    {
     "name": "stdout",
     "output_type": "stream",
     "text": [
      "   HPI  Int_rate  US_GDP_Thousands\n",
      "0   80         1                50\n",
      "1   85         2                55\n",
      "2   88         3                65\n",
      "3   85         4                55\n",
      "   HPI  Int_rate  Low_tier_HPI\n",
      "0   80         1            50\n",
      "1   85         2            55\n",
      "2   88         3            65\n",
      "3   85         4            55\n",
      "   HPI  Int_rate  US_GDP_Thousands  Low_tier_HPI\n",
      "0   80         1                50            50\n",
      "1   85         2                55            55\n",
      "2   88         3                65            65\n",
      "3   85         4                55            55\n"
     ]
    }
   ],
   "source": [
    "df1 = pd.DataFrame({'HPI': [80,85,88,85], 'Int_rate': [1,2,3,4] ,'US_GDP_Thousands': [50,55,65,55]}).reset_index().drop('index', axis = 1)\n",
    "print(df1)\n",
    "df3 = pd.DataFrame({'HPI': [80,85,88,85], 'Int_rate': [1,2,3,4], 'Low_tier_HPI': [50,55,65,55]}).reset_index().drop('index', axis = 1)\n",
    "print(df3)\n",
    "print(pd.merge(df1,df3, on = ['HPI','Int_rate']))"
   ]
  },
  {
   "cell_type": "code",
   "execution_count": 66,
   "metadata": {},
   "outputs": [
    {
     "name": "stdout",
     "output_type": "stream",
     "text": [
      "     Int_rate  US_GDP_Thousands  Unemployment  Low_tier_HPI\n",
      "HPI                                                        \n",
      "80          1                50            10            50\n",
      "85          2                55            11            55\n",
      "85          2                55            13            55\n",
      "88          3                65            12            65\n",
      "85          4                55            11            55\n",
      "85          4                55            13            55\n"
     ]
    }
   ],
   "source": [
    "\n",
    "df1 = pd.DataFrame({'HPI': [80,85,88,85], 'Int_rate': [1,2,3,4] ,'US_GDP_Thousands': [50,55,65,55]})\n",
    "df3 = pd.DataFrame({'HPI': [80,85,88,85], 'Unemployment': [10,11,12,13], 'Low_tier_HPI': [50,55,65,55]})\n",
    "\n",
    "df1.set_index('HPI', inplace = True)\n",
    "df3.set_index('HPI', inplace = True)\n",
    "joined = df1.join(df3, on='HPI')\n",
    "print(joined)"
   ]
  }
 ],
 "metadata": {
  "kernelspec": {
   "display_name": ".venv",
   "language": "python",
   "name": "python3"
  },
  "language_info": {
   "codemirror_mode": {
    "name": "ipython",
    "version": 3
   },
   "file_extension": ".py",
   "mimetype": "text/x-python",
   "name": "python",
   "nbconvert_exporter": "python",
   "pygments_lexer": "ipython3",
   "version": "3.11.7"
  }
 },
 "nbformat": 4,
 "nbformat_minor": 2
}
