{
 "cells": [
  {
   "cell_type": "code",
   "execution_count": 11,
   "metadata": {},
   "outputs": [],
   "source": [
    "import pandas as pd\n",
    "import numpy as np\n",
    "from matplotlib import pyplot as plt\n",
    "from matplotlib import style\n",
    "style.use('ggplot')"
   ]
  },
  {
   "cell_type": "code",
   "execution_count": 3,
   "metadata": {},
   "outputs": [
    {
     "name": "stdout",
     "output_type": "stream",
     "text": [
      "   Day  Visitors  Bounce_Rate\n",
      "0    1        43           65\n",
      "1    2        53           72\n",
      "2    3        34           62\n",
      "3    4        45           64\n",
      "4    5        64           54\n",
      "5    6        34           66\n"
     ]
    }
   ],
   "source": [
    "web_stats = {'Day':[1,2,3,4,5,6],\n",
    "                'Visitors':[43,53,34,45,64,34],\n",
    "                'Bounce_Rate':[65,72,62,64,54,66]}\n",
    "df = pd.DataFrame(web_stats)\n",
    "print(df)"
   ]
  },
  {
   "cell_type": "code",
   "execution_count": 4,
   "metadata": {},
   "outputs": [
    {
     "name": "stdout",
     "output_type": "stream",
     "text": [
      "     Visitors  Bounce_Rate\n",
      "Day                       \n",
      "1          43           65\n",
      "2          53           72\n",
      "3          34           62\n",
      "4          45           64\n",
      "5          64           54\n",
      "6          34           66\n"
     ]
    }
   ],
   "source": [
    "df.set_index('Day', inplace=True)\n",
    "print(df)"
   ]
  },
  {
   "cell_type": "code",
   "execution_count": 12,
   "metadata": {},
   "outputs": [
    {
     "name": "stdout",
     "output_type": "stream",
     "text": [
      "[[43 65]\n",
      " [53 72]\n",
      " [34 62]\n",
      " [45 64]\n",
      " [64 54]\n",
      " [34 66]]\n"
     ]
    }
   ],
   "source": [
    "visitor_list = np.array(df[['Visitors','Bounce_Rate']])\n",
    "print(visitor_list)"
   ]
  },
  {
   "cell_type": "code",
   "execution_count": null,
   "metadata": {},
   "outputs": [],
   "source": []
  }
 ],
 "metadata": {
  "kernelspec": {
   "display_name": ".venv",
   "language": "python",
   "name": "python3"
  },
  "language_info": {
   "codemirror_mode": {
    "name": "ipython",
    "version": 3
   },
   "file_extension": ".py",
   "mimetype": "text/x-python",
   "name": "python",
   "nbconvert_exporter": "python",
   "pygments_lexer": "ipython3",
   "version": "3.11.7"
  }
 },
 "nbformat": 4,
 "nbformat_minor": 2
}
